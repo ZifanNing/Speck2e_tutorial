{
 "cells": [
  {
   "cell_type": "code",
   "execution_count": 1,
   "metadata": {},
   "outputs": [],
   "source": [
    "# Suppress warnings (This is only to keep the notebook pretty. You might want to comment the below two lines)\n",
    "import warnings\n",
    "\n",
    "warnings.filterwarnings(\"ignore\")\n",
    "\n",
    "# - Import statements\n",
    "import torch\n",
    "import samna\n",
    "\n",
    "import time\n",
    "from tqdm.auto import tqdm\n",
    "import numpy as np\n",
    "import torch.nn as nn\n",
    "from torchvision import datasets\n",
    "import sinabs\n",
    "from sinabs.from_torch import from_model\n",
    "from sinabs.backend.dynapcnn import io\n",
    "from sinabs.backend.dynapcnn import DynapcnnNetwork\n",
    "from sinabs.backend.dynapcnn.chip_factory import ChipFactory\n",
    "from torch.utils.data import DataLoader\n",
    "import matplotlib.pyplot as plt\n",
    "import matplotlib.font_manager as font_manager\n",
    "\n",
    "assert samna.__version__ >= '0.21.8', f\"samna version {samna.__version__} is too low for this experiment\""
   ]
  },
  {
   "cell_type": "markdown",
   "metadata": {},
   "source": [
    "接下来定义一个简单的卷积神经网络结构。这里我们需要提前将ANN训练好并保存模型文件。"
   ]
  },
  {
   "cell_type": "code",
   "execution_count": 2,
   "metadata": {},
   "outputs": [
    {
     "data": {
      "text/plain": [
       "<All keys matched successfully>"
      ]
     },
     "execution_count": 2,
     "metadata": {},
     "output_type": "execute_result"
    }
   ],
   "source": [
    "# - Define CNN model\n",
    "\n",
    "ann = nn.Sequential(\n",
    "    nn.Conv2d(1, 20, 5, 1, bias=False),\n",
    "    nn.ReLU(),\n",
    "    nn.AvgPool2d(2, 2),\n",
    "    nn.Conv2d(20, 32, 5, 1, bias=False),\n",
    "    nn.ReLU(),\n",
    "    nn.AvgPool2d(2, 2),\n",
    "    nn.Conv2d(32, 128, 3, 1, bias=False),\n",
    "    nn.ReLU(),\n",
    "    nn.AvgPool2d(2, 2),\n",
    "    nn.Flatten(),\n",
    "    nn.Linear(128, 500, bias=False),\n",
    "    nn.ReLU(),\n",
    "    nn.Linear(500, 10, bias=False),\n",
    ")\n",
    "\n",
    "# Load pre-trained weights\n",
    "ann.load_state_dict(torch.load(\"./mnist_net.pth\", map_location=\"cpu\"))\n"
   ]
  },
  {
   "cell_type": "code",
   "execution_count": 3,
   "metadata": {},
   "outputs": [],
   "source": [
    "# Define custom dataset for spiking input data\n",
    "class MNIST_Dataset(datasets.MNIST):\n",
    "\n",
    "    def __init__(self, root, train = True, spiking=False, tWindow=100):\n",
    "        super().__init__(root, train=train, download=True)\n",
    "        self.spiking=spiking\n",
    "        self.tWindow = tWindow\n",
    "\n",
    "\n",
    "    def __getitem__(self, index):\n",
    "        img, target = self.data[index], self.targets[index]\n",
    "\n",
    "        if self.spiking:\n",
    "            img = (np.random.rand(self.tWindow, 1, *img.size()) < img.numpy()/255.0).astype(float)\n",
    "            img = torch.from_numpy(img).float()\n",
    "        else:\n",
    "            # Convert image to tensor\n",
    "            img = torch.from_numpy(img.numpy()).float()\n",
    "            img.unsqueeze_(0)\n",
    "\n",
    "        return img, target\n",
    "\n",
    "\n",
    "# Define dataloader\n",
    "tWindow = 200 # ms (or) time steps\n",
    "\n",
    "# Define test dataset\n",
    "test_dataset = MNIST_Dataset(\"./data\", train=False, spiking=True, tWindow=tWindow)\n",
    "test_dataloader = DataLoader(test_dataset, batch_size=1)\n",
    "\n",
    "param_layers = [name for name, child in ann.named_children() if isinstance(child, (nn.Conv2d, nn.Linear))]\n",
    "output_layers = [name for name, child in ann.named_children() if isinstance(child, nn.ReLU)]\n",
    "output_layers += [param_layers[-1]]\n",
    "normalise_loader = DataLoader(dataset=test_dataset, batch_size=10, shuffle=True)\n",
    "sample_data = next(iter(normalise_loader))[0].flatten(0, 1)\n",
    "percentile = 99.99\n",
    "\n",
    "\n",
    "sinabs.utils.normalize_weights(ann, sample_data, output_layers=output_layers, param_layers=param_layers, percentile=percentile)"
   ]
  },
  {
   "cell_type": "code",
   "execution_count": 4,
   "metadata": {},
   "outputs": [
    {
     "name": "stdout",
     "output_type": "stream",
     "text": [
      "Sequential(\n",
      "  (0): Conv2d(1, 20, kernel_size=(5, 5), stride=(1, 1), bias=False)\n",
      "  (1): IAFSqueeze(spike_threshold=1.0, min_v_mem=-1, batch_size=1, num_timesteps=-1)\n",
      "  (2): AvgPool2d(kernel_size=2, stride=2, padding=0)\n",
      "  (3): Conv2d(20, 32, kernel_size=(5, 5), stride=(1, 1), bias=False)\n",
      "  (4): IAFSqueeze(spike_threshold=1.0, min_v_mem=-1, batch_size=1, num_timesteps=-1)\n",
      "  (5): AvgPool2d(kernel_size=2, stride=2, padding=0)\n",
      "  (6): Conv2d(32, 128, kernel_size=(3, 3), stride=(1, 1), bias=False)\n",
      "  (7): IAFSqueeze(spike_threshold=1.0, min_v_mem=-1, batch_size=1, num_timesteps=-1)\n",
      "  (8): AvgPool2d(kernel_size=2, stride=2, padding=0)\n",
      "  (9): Flatten(start_dim=1, end_dim=-1)\n",
      "  (10): Linear(in_features=128, out_features=500, bias=False)\n",
      "  (11): IAFSqueeze(spike_threshold=1.0, min_v_mem=-1, batch_size=1, num_timesteps=-1)\n",
      "  (12): Linear(in_features=500, out_features=10, bias=False)\n",
      "  (spike_output): IAFSqueeze(spike_threshold=1.0, min_v_mem=-1, batch_size=1, num_timesteps=-1)\n",
      ")\n",
      "Parameter containing:\n",
      "tensor(-1)\n"
     ]
    }
   ],
   "source": [
    "sinabs_model = from_model(ann, add_spiking_output=True, min_v_mem=-1, batch_size=1)\n",
    "print(sinabs_model.spiking_model)\n",
    "\n",
    "print(sinabs_model.spiking_model[1].min_v_mem)\n"
   ]
  },
  {
   "cell_type": "code",
   "execution_count": 5,
   "metadata": {},
   "outputs": [
    {
     "name": "stdout",
     "output_type": "stream",
     "text": [
      "DynapcnnNetwork(\n",
      "  (sequence): Sequential(\n",
      "    (0): DVSLayer(\n",
      "      (pool_layer): SumPool2d(norm_type=1, kernel_size=(1, 1), stride=None, ceil_mode=False)\n",
      "      (crop_layer): Crop2d((0, 28), (0, 28))\n",
      "      (flip_layer): FlipDims()\n",
      "    )\n",
      "    (1): DynapcnnLayer(\n",
      "      (conv_layer): Conv2d(1, 20, kernel_size=(5, 5), stride=(1, 1), bias=False)\n",
      "      (spk_layer): IAFSqueeze(spike_threshold=581.0, min_v_mem=-581.0, batch_size=1, num_timesteps=-1)\n",
      "      (pool_layer): SumPool2d(norm_type=1, kernel_size=(2, 2), stride=None, ceil_mode=False)\n",
      "    )\n",
      "    (2): DynapcnnLayer(\n",
      "      (conv_layer): Conv2d(20, 32, kernel_size=(5, 5), stride=(1, 1), bias=False)\n",
      "      (spk_layer): IAFSqueeze(spike_threshold=924.0, min_v_mem=-924.0, batch_size=1, num_timesteps=-1)\n",
      "      (pool_layer): SumPool2d(norm_type=1, kernel_size=(2, 2), stride=None, ceil_mode=False)\n",
      "    )\n",
      "    (3): DynapcnnLayer(\n",
      "      (conv_layer): Conv2d(32, 128, kernel_size=(3, 3), stride=(1, 1), bias=False)\n",
      "      (spk_layer): IAFSqueeze(spike_threshold=123.0, min_v_mem=-123.0, batch_size=1, num_timesteps=-1)\n",
      "      (pool_layer): SumPool2d(norm_type=1, kernel_size=(2, 2), stride=None, ceil_mode=False)\n",
      "    )\n",
      "    (4): DynapcnnLayer(\n",
      "      (conv_layer): Conv2d(128, 500, kernel_size=(1, 1), stride=(1, 1), bias=False)\n",
      "      (spk_layer): IAFSqueeze(spike_threshold=182.0, min_v_mem=-182.0, batch_size=1, num_timesteps=-1)\n",
      "    )\n",
      "    (5): DynapcnnLayer(\n",
      "      (conv_layer): Conv2d(500, 10, kernel_size=(1, 1), stride=(1, 1), bias=False)\n",
      "      (spk_layer): IAFSqueeze(spike_threshold=91.0, min_v_mem=-91.0, batch_size=1, num_timesteps=-1)\n",
      "    )\n",
      "  )\n",
      ")\n"
     ]
    }
   ],
   "source": [
    "# - Input dimensions\n",
    "input_shape = (1, 28, 28)\n",
    "\n",
    "device = \"speck2edevkit:0\"\n",
    "\n",
    "# - DYNAP-CNN compatible network\n",
    "dynapcnn_net = DynapcnnNetwork(\n",
    "    sinabs_model.spiking_model,\n",
    "    input_shape=input_shape,\n",
    "    discretize=True,\n",
    "    dvs_input=False,\n",
    ")\n",
    "print(dynapcnn_net)\n",
    "\n",
    "\n",
    "\n"
   ]
  },
  {
   "cell_type": "code",
   "execution_count": 6,
   "metadata": {},
   "outputs": [
    {
     "name": "stderr",
     "output_type": "stream",
     "text": [
      " 99%|█████████▉| 99/100 [00:09<00:00, 10.19it/s, acc=73]  \n"
     ]
    },
    {
     "data": {
      "text/plain": [
       "'Accuracy of the  dynapcnn_net is: 73.0%'"
      ]
     },
     "execution_count": 6,
     "metadata": {},
     "output_type": "execute_result"
    }
   ],
   "source": [
    "with torch.no_grad():\n",
    "    correct = 0\n",
    "    samples = 0\n",
    "    # we will only use the first 100 samples to save some time\n",
    "    pbar = tqdm(test_dataset, total=100)\n",
    "    for data, label in pbar:\n",
    "        dynapcnn_net.reset_states()\n",
    "        out = dynapcnn_net(data)\n",
    "\n",
    "        # Calculate total number of spikes out\n",
    "        pred = out.squeeze().sum(0)\n",
    "        # print(pred.shape)\n",
    "        \n",
    "        # Check if the prediction matches the label\n",
    "        if pred.argmax() == label:\n",
    "            correct += 1\n",
    "        samples += 1\n",
    "        pbar.set_postfix(acc=100*correct/samples)\n",
    "        if samples >= 100:\n",
    "            break\n",
    "\n",
    "f\"Accuracy of the  dynapcnn_net is: {100*correct/samples}%\""
   ]
  },
  {
   "attachments": {},
   "cell_type": "markdown",
   "metadata": {},
   "source": [
    "Configuration method 1"
   ]
  },
  {
   "cell_type": "code",
   "execution_count": 7,
   "metadata": {},
   "outputs": [],
   "source": [
    "# Apply model to device such as dynapcnndevkit, speck2, speck2b\n",
    "\n",
    "# dynapcnn_net.to(device)\n",
    "\n",
    "# print(dynapcnn_net)\n",
    "# print(dynapcnn_net.chip_layers_ordering)"
   ]
  },
  {
   "cell_type": "code",
   "execution_count": 8,
   "metadata": {},
   "outputs": [],
   "source": [
    "# dynapcnn_net.memory_summary()\n",
    "\n",
    "# builder = ChipFactory(device).get_config_builder()\n",
    "# builder.get_constraints()\n",
    "\n"
   ]
  },
  {
   "cell_type": "code",
   "execution_count": 9,
   "metadata": {},
   "outputs": [],
   "source": [
    "# correct_on = 0\n",
    "# samples_on = 0\n",
    "# pbar = tqdm(test_dataset, total=100)\n",
    "# factory = ChipFactory(device)\n",
    "# first_layer_idx = dynapcnn_net.chip_layers_ordering[0] \n",
    "\n",
    "# for data, label in pbar:\n",
    "#     dynapcnn_net.reset_states()\n",
    "#     events_in = factory.raster_to_events(data, layer=first_layer_idx)\n",
    "\n",
    "#     output = dynapcnn_net(events_in)\n",
    "#     if output:\n",
    "#         out = factory.events_to_raster(output)\n",
    "#         pred = out.squeeze().sum(0)\n",
    "\n",
    "#         if pred.argmax() == label:\n",
    "#             correct_on += 1\n",
    "#         samples_on += 1\n",
    "#         pbar.set_postfix(acc=100*correct_on/samples_on)\n",
    "#     else:\n",
    "#         print(\"none\")\n",
    "#     if samples_on >= 100:\n",
    "#         break\n",
    "\n",
    "# f\"Accuracy of the  dynapcnn_net is: {100*correct_on/samples_on}%\""
   ]
  },
  {
   "cell_type": "code",
   "execution_count": 10,
   "metadata": {},
   "outputs": [],
   "source": [
    "# raster, label = test_dataset[0]\n",
    "\n",
    "# factory = ChipFactory(device)\n",
    "# first_layer_idx = dynapcnn_net.chip_layers_ordering[0] \n",
    "# events_in = factory.raster_to_events(raster, layer=first_layer_idx)\n",
    "# print(events_in)\n",
    "\n",
    "# dynapcnn_net.reset_states()\n",
    "# time.sleep(6.0)  # wait until the configuration take effect, this step is necessary when use a speck2edevkit!\n",
    "# print(dynapcnn_net)\n",
    "# events_out = dynapcnn_net(events_in)\n",
    "# print(events_out)"
   ]
  },
  {
   "cell_type": "code",
   "execution_count": 11,
   "metadata": {},
   "outputs": [],
   "source": [
    "# output = factory.events_to_raster(events_out)\n",
    "# output.sum([0,2,3])\n",
    "# print(output)\n",
    "# print(label)"
   ]
  },
  {
   "attachments": {},
   "cell_type": "markdown",
   "metadata": {},
   "source": [
    "Configuration method 2"
   ]
  },
  {
   "cell_type": "code",
   "execution_count": 12,
   "metadata": {},
   "outputs": [
    {
     "name": "stdout",
     "output_type": "stream",
     "text": [
      "Network is valid\n",
      "[0, 3, 5, 6, 1]\n"
     ]
    }
   ],
   "source": [
    "samna_cfg = dynapcnn_net.make_config(\n",
    "    device= device,\n",
    "    chip_layers_ordering=\"auto\",\n",
    "    monitor_layers= [-1]\n",
    ")\n",
    "\n",
    "print(dynapcnn_net.chip_layers_ordering)"
   ]
  },
  {
   "cell_type": "code",
   "execution_count": 13,
   "metadata": {},
   "outputs": [
    {
     "data": {
      "text/plain": [
       "True"
      ]
     },
     "execution_count": 13,
     "metadata": {},
     "output_type": "execute_result"
    }
   ],
   "source": [
    "devkit = samna.device.open_device(\"Speck2eDevKit:0\")\n",
    "\n",
    "# get the handle of the stop-watch of the devkit\n",
    "stop_watch = devkit.get_stop_watch()\n",
    "\n",
    "# get the handle of the power monitor of the devkit\n",
    "power_monitor = devkit.get_power_monitor()\n",
    "\n",
    "# create samna node for power reading\n",
    "power_source_node = power_monitor.get_source_node()\n",
    "power_buffer_node = samna.BasicSinkNode_unifirm_modules_events_measurement()\n",
    "\n",
    "samna_graph = samna.graph.EventFilterGraph()\n",
    "\n",
    "# build graph\n",
    "samna_graph.sequential([power_source_node, power_buffer_node])\n",
    "time.sleep(0.5)\n",
    "\n",
    "# 初始化源节点和溯节点\n",
    "input_buffer_node = samna.BasicSourceNode_speck2e_event_speck2e_input_event()\n",
    "spike_buffer_node = samna.BasicSinkNode_speck2e_event_output_event()\n",
    "\n",
    "_, br = samna_graph.sequential(\n",
    "    [\n",
    "        input_buffer_node,\n",
    "        devkit.get_model_sink_node(),\n",
    "    ]\n",
    ")\n",
    "\n",
    "_, type_filter_node_spike, _ = samna_graph.sequential(\n",
    "    [\n",
    "        devkit.get_model_source_node(),\n",
    "        \"Speck2eOutputEventTypeFilter\",\n",
    "        spike_buffer_node,\n",
    "    ]\n",
    ")\n",
    "\n",
    "type_filter_node_spike.set_desired_type(\"speck2e::event::Spike\")\n",
    "\n",
    "measure_time = 5.0  # seconds\n",
    "sample_rate = 100.0  # Hz\n",
    "\n",
    "samna_graph.start()"
   ]
  },
  {
   "cell_type": "code",
   "execution_count": 14,
   "metadata": {},
   "outputs": [
    {
     "name": "stdout",
     "output_type": "stream",
     "text": [
      "7\n"
     ]
    }
   ],
   "source": [
    "raster, label = test_dataset[0]\n",
    "\n",
    "factory = ChipFactory(device)\n",
    "first_layer_idx = dynapcnn_net.chip_layers_ordering[0]\n",
    "events_in = factory.raster_to_events(raster, layer=first_layer_idx)\n",
    "\n",
    "print(int(label))"
   ]
  },
  {
   "cell_type": "code",
   "execution_count": 15,
   "metadata": {},
   "outputs": [],
   "source": [
    "devkit.get_model().apply_configuration(samna_cfg)\n",
    "time.sleep(6.0)\n",
    "\n",
    "stop_watch = devkit.get_stop_watch()\n",
    "stop_watch.set_enable_value(True)\n",
    "stop_watch.reset()\n",
    "\n",
    "time.sleep(1.0)\n",
    "\n",
    "spike_buffer_node.get_events()\n",
    "input_buffer_node.write(events_in)\n",
    "\n"
   ]
  },
  {
   "cell_type": "code",
   "execution_count": 16,
   "metadata": {},
   "outputs": [
    {
     "name": "stdout",
     "output_type": "stream",
     "text": [
      "All spike events correct!\n",
      "num of spike events:  0\n",
      "[]\n"
     ]
    }
   ],
   "source": [
    "# samna.speck2e.Speck2eModel.reset\n",
    "# time.sleep(3.0)\n",
    "\n",
    "output_spike_events = spike_buffer_node.get_events()\n",
    "\n",
    "def check_output_spikes(output_spikes: list, output_layer_idx: int):\n",
    "    for spk in output_spikes:\n",
    "        assert spk.layer == output_layer_idx\n",
    "        assert isinstance(spk, samna.speck2e.event.Spike)\n",
    "    print(\"All spike events correct!\")\n",
    "\n",
    "    return\n",
    "\n",
    "check_output_spikes(output_spike_events, dynapcnn_net.chip_layers_ordering[-1])\n",
    "print(\"num of spike events: \", len(output_spike_events))\n",
    "print(output_spike_events)"
   ]
  },
  {
   "cell_type": "code",
   "execution_count": 17,
   "metadata": {},
   "outputs": [
    {
     "name": "stdout",
     "output_type": "stream",
     "text": [
      "[0. 0. 0. 0. 0. 0. 0. 0. 0. 0.]\n",
      "预测标签为：  0 标签为：  tensor(7)\n"
     ]
    }
   ],
   "source": [
    "def convert_output_spike_into_prediction(spk_events: list) -> np.ndarray:\n",
    "\n",
    "    num_class = 10\n",
    "\n",
    "    count = np.zeros(num_class)\n",
    "\n",
    "    for spk in spk_events:\n",
    "        class_idx = spk.feature\n",
    "        count[class_idx] += 1\n",
    "    return count\n",
    "\n",
    "prediction_array = convert_output_spike_into_prediction(output_spike_events)\n",
    "\n",
    "print(prediction_array)\n",
    "print(\"预测标签为： \", prediction_array.argmax(), \"标签为： \", label)\n"
   ]
  },
  {
   "cell_type": "code",
   "execution_count": 18,
   "metadata": {},
   "outputs": [
    {
     "name": "stderr",
     "output_type": "stream",
     "text": [
      " 19%|█▉        | 19/100 [01:06<04:44,  3.51s/it]\n"
     ]
    },
    {
     "data": {
      "text/plain": [
       "'Accuracy of the  dynapcnn_net is: 21.05263157894737%'"
      ]
     },
     "execution_count": 18,
     "metadata": {},
     "output_type": "execute_result"
    }
   ],
   "source": [
    "correct_on = 0\n",
    "samples_on = 0\n",
    "pbar = tqdm(test_dataset, total=100)\n",
    "\n",
    "for raster, label in pbar:\n",
    "\n",
    "\n",
    "    events_in = factory.raster_to_events(raster, layer=first_layer_idx)\n",
    "    spike_buffer_node.get_events()\n",
    "    input_buffer_node.write(events_in)\n",
    "    time.sleep(3.0)\n",
    "\n",
    "    output_spike_events = spike_buffer_node.get_events()\n",
    "    if not output_spike_events:\n",
    "        break\n",
    "    prediction_array = convert_output_spike_into_prediction(output_spike_events)\n",
    "    # print(prediction_array)\n",
    "    # print(\"预测标签为： \", prediction_array.argmax(), \"标签为： \", int(label))\n",
    "    if prediction_array.argmax() == int(label):\n",
    "        correct_on +=1\n",
    "    samples_on +=1\n",
    "    if samples_on >= 100:\n",
    "        break\n",
    "f\"Accuracy of the  dynapcnn_net is: {100*correct_on/samples_on}%\""
   ]
  },
  {
   "cell_type": "code",
   "execution_count": 19,
   "metadata": {},
   "outputs": [],
   "source": [
    "def convert_output_spike_into_prediction(spk_events: list) -> np.ndarray:\n",
    "\n",
    "    num_class = 10\n",
    "\n",
    "    count = np.zeros(num_class)\n",
    "\n",
    "    for spk in spk_events:\n",
    "        class_idx = spk.feature\n",
    "        count[class_idx] += 1\n",
    "    return count\n",
    "\n",
    "def check_output_spikes(output_spikes: list, output_layer_idx: int):\n",
    "    for spk in output_spikes:\n",
    "        assert spk.layer == output_layer_idx\n",
    "        assert isinstance(spk, samna.speck2e.event.Spike)\n",
    "    print(\"All spike events correct!\")\n",
    "\n",
    "    return"
   ]
  },
  {
   "cell_type": "code",
   "execution_count": 20,
   "metadata": {},
   "outputs": [
    {
     "name": "stdout",
     "output_type": "stream",
     "text": [
      "7\n",
      "All spike events correct!\n",
      "num of spike events:  0\n",
      "[]\n",
      "All spike events correct!\n",
      "num of spike events:  0\n",
      "[]\n",
      "All spike events correct!\n",
      "num of spike events:  0\n",
      "[]\n",
      "[0. 0. 0. 0. 0. 0. 0. 0. 0. 0.]\n",
      "预测标签为：  0 标签为：  tensor(7)\n",
      "estimated number of collect data: 2500.0\n",
      "number of collected data: 2499\n"
     ]
    }
   ],
   "source": [
    "\n",
    "samna.speck2e.Speck2eModel.reset\n",
    "time.sleep(3.0)\n",
    "\n",
    "devkit = samna.device.open_device(\"Speck2eDevKit:0\")\n",
    "\n",
    "# get the handle of the power monitor of the devkit\n",
    "power_monitor = devkit.get_power_monitor()\n",
    "\n",
    "# create samna node for power reading\n",
    "power_source_node = power_monitor.get_source_node()\n",
    "power_buffer_node = samna.BasicSinkNode_unifirm_modules_events_measurement()\n",
    "\n",
    "samna_graph = samna.graph.EventFilterGraph()\n",
    "\n",
    "    # 初始化源节点和溯节点\n",
    "input_buffer_node = samna.BasicSourceNode_speck2e_event_speck2e_input_event()\n",
    "spike_buffer_node = samna.BasicSinkNode_speck2e_event_output_event()\n",
    "\n",
    "samna_graph.sequential([power_source_node, power_buffer_node])\n",
    "\n",
    "_, br = samna_graph.sequential(\n",
    "    [\n",
    "        input_buffer_node,\n",
    "        devkit.get_model_sink_node(),\n",
    "    ]\n",
    ")\n",
    "\n",
    "_, type_filter_node_spike, _ = samna_graph.sequential(\n",
    "    [\n",
    "        devkit.get_model_source_node(),\n",
    "        \"Speck2eOutputEventTypeFilter\",\n",
    "        spike_buffer_node,\n",
    "    ]\n",
    ")\n",
    "\n",
    "type_filter_node_spike.set_desired_type(\"speck2e::event::Spike\")\n",
    "\n",
    "samna_graph.start()\n",
    "\n",
    "raster, label = test_dataset[0]\n",
    "\n",
    "factory = ChipFactory(device)\n",
    "first_layer_idx = dynapcnn_net.chip_layers_ordering[0]\n",
    "events_in = factory.raster_to_events(raster, layer=first_layer_idx)\n",
    "\n",
    "print(int(label))\n",
    "\n",
    "devkit.get_model().apply_configuration(samna_cfg)\n",
    "time.sleep(6.0)\n",
    "\n",
    "stop_watch = devkit.get_stop_watch()\n",
    "stop_watch.set_enable_value(True)\n",
    "stop_watch.reset()\n",
    "\n",
    "time.sleep(1.0)\n",
    "\n",
    "# start monitor, we need pass a sample rate argument to the power monitor\n",
    "power_monitor.start_auto_power_measurement(sample_rate)\n",
    "\n",
    "# clear buffer\n",
    "power_buffer_node.get_events()\n",
    "\n",
    "spike_buffer_node.get_events()\n",
    "input_buffer_node.write(events_in)\n",
    "\n",
    "# samna.speck2e.Speck2eModel.reset\n",
    "# time.sleep(3.0)\n",
    "\n",
    "output_spike_events = spike_buffer_node.get_events()\n",
    "\n",
    "\n",
    "\n",
    "check_output_spikes(output_spike_events, dynapcnn_net.chip_layers_ordering[-1])\n",
    "print(\"num of spike events: \", len(output_spike_events))\n",
    "print(output_spike_events)\n",
    "\n",
    "# clear buffer\n",
    "power_buffer_node.get_events()\n",
    "\n",
    "spike_buffer_node.get_events()\n",
    "input_buffer_node.write(events_in)\n",
    "\n",
    "# samna.speck2e.Speck2eModel.reset\n",
    "# time.sleep(3.0)\n",
    "\n",
    "output_spike_events = spike_buffer_node.get_events()\n",
    "\n",
    "\n",
    "\n",
    "check_output_spikes(output_spike_events, dynapcnn_net.chip_layers_ordering[-1])\n",
    "print(\"num of spike events: \", len(output_spike_events))\n",
    "print(output_spike_events)\n",
    "\n",
    "# clear buffer\n",
    "power_buffer_node.get_events()\n",
    "\n",
    "spike_buffer_node.get_events()\n",
    "input_buffer_node.write(events_in)\n",
    "\n",
    "# samna.speck2e.Speck2eModel.reset\n",
    "# time.sleep(3.0)\n",
    "\n",
    "output_spike_events = spike_buffer_node.get_events()\n",
    "\n",
    "\n",
    "\n",
    "check_output_spikes(output_spike_events, dynapcnn_net.chip_layers_ordering[-1])\n",
    "print(\"num of spike events: \", len(output_spike_events))\n",
    "print(output_spike_events)\n",
    "\n",
    "\n",
    "\n",
    "\n",
    "prediction_array = convert_output_spike_into_prediction(output_spike_events)\n",
    "\n",
    "print(prediction_array)\n",
    "print(\"预测标签为： \", prediction_array.argmax(), \"标签为： \", label)\n",
    "\n",
    "# sleep the procees to wait for the measurement time up\n",
    "time.sleep(measure_time)\n",
    "\n",
    "# stop monitor\n",
    "power_monitor.stop_auto_power_measurement()\n",
    "\n",
    "# stop samna graph\n",
    "samna_graph.stop()\n",
    "\n",
    "# get power-measurement data\n",
    "power_events = power_buffer_node.get_events()\n",
    "\n",
    "# time * sample rate * number of power tracks\n",
    "estimated_number_of_data = measure_time * sample_rate * 5\n",
    "print(f\"estimated number of collect data: {estimated_number_of_data}\")\n",
    "\n",
    "print(f\"number of collected data: {len(power_events)}\")\n",
    "\n"
   ]
  },
  {
   "cell_type": "code",
   "execution_count": 21,
   "metadata": {},
   "outputs": [
    {
     "name": "stdout",
     "output_type": "stream",
     "text": [
      "track0: 55.51629638671878uW, 22.206518554687513uA\n",
      "track1: 4001.652832031249uW, 3334.7106933593745uA\n",
      "track2: 5413.8783482142835uW, 4511.56529017857uA\n",
      "track3: 162.30678013392858uW, 135.25565011160717uA\n",
      "track4: 598.6893569505086uW, 498.90779745875716uA\n"
     ]
    }
   ],
   "source": [
    "num_power_tracks = 5\n",
    "\n",
    "# init dict for storing data of each power track\n",
    "power_each_track = dict()\n",
    "event_count_each_track = dict()\n",
    "\n",
    "# check whether timestamp is correct\n",
    "timestamp_all_zero = True\n",
    "\n",
    "# loop through all collected power events and get data\n",
    "for evt in power_events:\n",
    "\n",
    "    if evt.timestamp != 0:\n",
    "        timestamp_all_zero = False\n",
    "    \n",
    "    p_track_id = evt.channel\n",
    "    tmp_power = power_each_track.get(p_track_id, 0) + evt.value\n",
    "    tmp_count = event_count_each_track.get(p_track_id, 0) + 1\n",
    "    \n",
    "    power_each_track.update({p_track_id: tmp_power})\n",
    "    event_count_each_track.update({p_track_id: tmp_count})\n",
    "\n",
    "# average power and current of each track\n",
    "for p_track_id in range(num_power_tracks):\n",
    "    \n",
    "    # average power in microwatt\n",
    "    avg_power = power_each_track[p_track_id] / event_count_each_track[p_track_id] * 1e6\n",
    "    # calculate current\n",
    "    if p_track_id == 0:\n",
    "        current = avg_power / 2.5 \n",
    "    else:\n",
    "        current = avg_power / 1.2\n",
    "        \n",
    "    print(f'track{p_track_id}: {avg_power}uW, {current}uA')"
   ]
  },
  {
   "cell_type": "code",
   "execution_count": 22,
   "metadata": {},
   "outputs": [
    {
     "data": {
      "image/png": "[encoded data removed]",
      "text/plain": [
       "<Figure size 720x432 with 1 Axes>"
      ]
     },
     "metadata": {},
     "output_type": "display_data"
    }
   ],
   "source": [
    "if timestamp_all_zero:\n",
    "    \n",
    "    print(\"timestamps are all zeros, can't plot power vs. time, you might need to update the firmware!\")\n",
    "    \n",
    "else:\n",
    "    plt.rcParams['figure.figsize']=(10, 6)\n",
    "    plt.rcParams['axes.facecolor']='white'\n",
    "    # plot the output neuron index vs. time\n",
    "    plt.style.use('ggplot')\n",
    "    fig, ax = plt.subplots()\n",
    "    p_track_name = [\"io\", \"ram\", \"logic\", \"pixel digital\", \"pixel analog\"]\n",
    "    for p_track_id in range(num_power_tracks):\n",
    "        x = [each.timestamp for each in power_events if each.channel == p_track_id]\n",
    "        y = [each.value * 1e6 for each in power_events if each.channel == p_track_id]\n",
    "        plt.plot(x, y, label=p_track_name[p_track_id], alpha=0.8)\n",
    "        \n",
    "    ax.set_xlabel(\"time(us)\")\n",
    "    ax.set_ylabel(\"power(uW)\")\n",
    "    ax.set_title(\"Operate Power\")\n",
    "    ax.legend(loc=\"upper right\", fontsize=10)\n",
    "    ax.yaxis.tick_right()\n",
    "    # ax.set_facecolor('grey')\n",
    "    ax.set_alpha(1)\n",
    "    plt.savefig(\"./operate.png\")\n",
    "    plt.savefig(\"./operate.svg\")\n",
    "    plt.show()\n",
    "    "
   ]
  },
  {
   "cell_type": "code",
   "execution_count": 23,
   "metadata": {},
   "outputs": [
    {
     "name": "stderr",
     "output_type": "stream",
     "text": [
      "  0%|          | 0/100 [00:03<?, ?it/s]\n"
     ]
    },
    {
     "ename": "ZeroDivisionError",
     "evalue": "division by zero",
     "output_type": "error",
     "traceback": [
      "\u001b[0;31m---------------------------------------------------------------------------\u001b[0m",
      "\u001b[0;31mZeroDivisionError\u001b[0m                         Traceback (most recent call last)",
      "\u001b[0;32m<ipython-input-23-27781b1f1f4b>\u001b[0m in \u001b[0;36m<module>\u001b[0;34m\u001b[0m\n\u001b[1;32m     23\u001b[0m     \u001b[0;32mif\u001b[0m \u001b[0msamples_on\u001b[0m \u001b[0;34m>=\u001b[0m \u001b[0;36m100\u001b[0m\u001b[0;34m:\u001b[0m\u001b[0;34m\u001b[0m\u001b[0;34m\u001b[0m\u001b[0m\n\u001b[1;32m     24\u001b[0m         \u001b[0;32mbreak\u001b[0m\u001b[0;34m\u001b[0m\u001b[0;34m\u001b[0m\u001b[0m\n\u001b[0;32m---> 25\u001b[0;31m \u001b[0;34mf\"Accuracy of the  dynapcnn_net is: {100*correct_on/samples_on}%\"\u001b[0m\u001b[0;34m\u001b[0m\u001b[0;34m\u001b[0m\u001b[0m\n\u001b[0m",
      "\u001b[0;31mZeroDivisionError\u001b[0m: division by zero"
     ]
    }
   ],
   "source": [
    "correct_on = 0\n",
    "samples_on = 0\n",
    "pbar = tqdm(test_dataset, total=100)\n",
    "\n",
    "for raster, label in pbar:\n",
    "\n",
    "\n",
    "\n",
    "    events_in = factory.raster_to_events(raster, layer=first_layer_idx)\n",
    "    spike_buffer_node.get_events()\n",
    "    input_buffer_node.write(events_in)\n",
    "    time.sleep(3.0)\n",
    "\n",
    "    output_spike_events = spike_buffer_node.get_events()\n",
    "    if not output_spike_events:\n",
    "        break\n",
    "    prediction_array = convert_output_spike_into_prediction(output_spike_events)\n",
    "    # print(prediction_array)\n",
    "    # print(\"预测标签为： \", prediction_array.argmax(), \"标签为： \", int(label))\n",
    "    if prediction_array.argmax() == int(label):\n",
    "        correct_on +=1\n",
    "    samples_on +=1\n",
    "    if samples_on >= 100:\n",
    "        break\n",
    "f\"Accuracy of the  dynapcnn_net is: {100*correct_on/samples_on}%\""
   ]
  },
  {
   "cell_type": "code",
   "execution_count": null,
   "metadata": {},
   "outputs": [],
   "source": [
    "# close devkit after experiment finished\n",
    "samna.device.close_device(devkit)"
   ]
  }
 ],
 "metadata": {
  "kernelspec": {
   "display_name": "Python 3",
   "language": "python",
   "name": "python3"
  },
  "language_info": {
   "codemirror_mode": {
    "name": "ipython",
    "version": 3
   },
   "file_extension": ".py",
   "mimetype": "text/x-python",
   "name": "python",
   "nbconvert_exporter": "python",
   "pygments_lexer": "ipython3",
   "version": "3.9.2"
  },
  "orig_nbformat": 4
 },
 "nbformat": 4,
 "nbformat_minor": 2
}
