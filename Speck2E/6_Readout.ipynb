{
 "cells": [
  {
   "cell_type": "markdown",
   "metadata": {},
   "source": [
    "Speck 2e 中的读出层是后处理层，如果配置正确，如果发生中断，则可以通过 4 个读出引脚读取输出结果。"
   ]
  },
  {
   "cell_type": "markdown",
   "metadata": {},
   "source": [
    "读出层用于从芯片中读出分类结果。它由慢速时钟驱动。\n",
    "\n",
    "它有15个通道（类别id），每个通道的索引从1到15开始。在每个通道中，我们在每个时钟输入（clock_slow）时计数每个通道的输入神经元的事件数量（计数器为16bit） ，所有通道并行计算。\n",
    "\n",
    "我们将1 个时钟周期内的计数值存储在 16 位寄存器中。然后在下一个时钟周期，我们计算该神经元上的事件并计算该时钟周期内的总事件。然后我们将其放入另一个寄存器中。\n",
    "\n",
    "然后我们在每个时钟周期执行此操作，并计算1、16 或 32 个时钟周期内事件的平均值（这取决于配置寄存器）。这样我们就可以得到每个通道的平均值（16 位）。\n",
    "\n",
    "然后所有 15 通道的平均信号进入“查找最大平均值”块。\n",
    "\n",
    "该块找到最大尖峰神经元的平均值并输出平均信息（16 位），并且还输出最大尖峰神经元的索引。\n",
    "\n",
    "然后我们有另一个名为“平均选择”的块\n",
    "\n",
    "该块还接收所有通道的平均输出，此外它还有一个名为AVERAGE_SEL的输入，可以通过 S2P 接口或通过配置寄存器进行设置。然后该模块输出 AVERAGE_SEL<3:0> 位指向的神经元的平均值\n",
    "\n",
    "最后我们还有另一个名为“阈值比较”的块\n",
    "\n",
    "该模块与其他模块类似，接收所有通道的平均输出作为输入，将每个通道的平均值（16 位）与配置寄存器设置的阈值（16 位）进行比较，该模块的输出为称为threshold_compare<15:1>\n",
    "\n",
    "因此，我们将每个通道用一位表示作为threshold_compare。如果通道的平均输出大于阈值，则阈值比较的相应位变为“1”（average_X[15:0] >阈值<15:0> –>阈值_比较_X=1）\n",
    "\n"
   ]
  },
  {
   "cell_type": "code",
   "execution_count": 1,
   "metadata": {},
   "outputs": [],
   "source": [
    "import torch\n",
    "import samna\n",
    "import samnagui\n",
    "import time\n",
    "import random\n",
    "import copy\n",
    "import matplotlib.pyplot as plt\n",
    "\n",
    "from torch import nn\n",
    "from sinabs.backend.dynapcnn import DynapcnnNetwork\n",
    "from multiprocessing import Process\n",
    "from sinabs.from_torch import from_model\n",
    "from sinabs.layers.pool2d import SumPool2d\n",
    "from typing import Union\n",
    "from matplotlib.ticker import MaxNLocator"
   ]
  },
  {
   "cell_type": "markdown",
   "metadata": {},
   "source": [
    "创建一个可以部署到 devkit 的 1 层 CNN"
   ]
  },
  {
   "cell_type": "code",
   "execution_count": 2,
   "metadata": {},
   "outputs": [],
   "source": [
    "# init a cnn it has 2 out_channels for a binary classification task\n",
    "# the input shape of this cnn is (1, 16, 16), output shape of this cnn is (2, 1, 1)\n",
    "\n",
    "input_shape = (1, 16, 16)\n",
    "\n",
    "cnn = nn.Sequential(SumPool2d(kernel_size=(1, 1)),\n",
    "                    nn.Conv2d(in_channels=1,\n",
    "                              out_channels=2,\n",
    "                              kernel_size=(16, 16),\n",
    "                              stride=(1, 1),\n",
    "                              padding=(0, 0),\n",
    "                              bias=False),\n",
    "                    nn.ReLU())"
   ]
  },
  {
   "cell_type": "markdown",
   "metadata": {},
   "source": [
    "为 CNN 层分配手工权重：\n",
    "\n",
    "这样设计权重的原因是：\n",
    "\n",
    "我们将创建一堆假输入尖峰 $X[x_0, x_1, …x_{T}]$ 作为 devkit 的输入。\n",
    "\n",
    "对于带有时间戳 $t$ 的任何输入尖峰 $x_{t}$：\n",
    "\n",
    "如果$t$，如果$t < 0.5 * T$，尖峰$x_t$的$y$坐标将在范围[0, 7]内，即在输入区域的上半部分。\n",
    "\n",
    "如果$t$，如果$t > 0.5 * T$，尖峰$x_t$的$y$坐标将在范围[8, 15]内。即在输入区域的下半部分。\n",
    "\n",
    "基于此\n",
    "\n",
    "从时间 $0$ 到 $0.5 * T$ 的输出尖峰将全部来自输出通道 #0\n",
    "\n",
    "从时间 $0.5 * T$ 到 $T$ 的输出尖峰将全部来自输出通道 #1"
   ]
  },
  {
   "cell_type": "code",
   "execution_count": 3,
   "metadata": {},
   "outputs": [],
   "source": [
    "# set handcraft weights for the CNN\n",
    "weight_ones = torch.ones(1, 8, 16, dtype=torch.float32)\n",
    "weight_zeros = torch.zeros(1, 8, 16, dtype=torch.float32)\n",
    "\n",
    "channel_1_weight = torch.cat([weight_ones, weight_zeros], dim=1).unsqueeze(0)\n",
    "channel_2_weight = torch.cat([weight_zeros, weight_ones], dim=1).unsqueeze(0)\n",
    "handcraft_weight = torch.cat([channel_1_weight, channel_2_weight], dim=0)\n",
    "\n",
    "output_cnn_lyr_id = 1\n",
    "cnn[output_cnn_lyr_id].weight.data = handcraft_weight"
   ]
  },
  {
   "cell_type": "markdown",
   "metadata": {},
   "source": [
    "注意：\n",
    "\n",
    "对于speck2e devkit，输出通道索引和读出通道索引之间存在错误的映射关系。我们需要定义一个函数来重新映射通道索引。"
   ]
  },
  {
   "cell_type": "code",
   "execution_count": 4,
   "metadata": {},
   "outputs": [],
   "source": [
    "def remapping_output_index(output_layer: Union[nn.Conv2d, nn.Linear]) -> Union[nn.Conv2d, nn.Linear]:\n",
    "\n",
    "    \"\"\"\n",
    "    Since the mapping of output channel's index from last cnn layer to the readout layer is not correct\n",
    "    for speck2e devkit.\n",
    "    We need to remap the index for the channel's index.\n",
    "    The mapping law is:\n",
    "    readout_layer_channel <--> cnn_layer_output_channel\n",
    "       1  <--> 0\n",
    "       2  <--> 4\n",
    "       x  <--> 4(x - 1)\n",
    "          ...\n",
    "       15 <--> 56\n",
    "       Args:\n",
    "           output_layer: Usually we can use both nn.Linear and nn.Conv2d as the output computational layer of\n",
    "           a classifier. The shape of weights of those two different type layer are:\n",
    "           nn.Linear -> [output_channel, input_channel]\n",
    "           nn.Conv2d -> [output_channel, input_channel, *kernel_size]\n",
    "       Returns:\n",
    "           new_output_layer: mapped weight of last layer.\n",
    "    \"\"\"\n",
    "    weights = output_layer.weight.data\n",
    "\n",
    "    out_channel, input_channel, *rest_dims = weights.size()\n",
    "    new_out_channel = (out_channel - 1) * 4 + 1\n",
    "\n",
    "    new_weights = torch.zeros(new_out_channel, input_channel, *rest_dims, dtype=weights.dtype, device=weights.device)\n",
    "\n",
    "    for channel_id in range(out_channel):\n",
    "        new_weights[channel_id * 4, :] = weights[channel_id, :]\n",
    "\n",
    "    output_layer.weight.data = new_weights\n",
    "    \n",
    "    # change the attributes for the parameter layer\n",
    "    if isinstance(output_layer, nn.Conv2d):\n",
    "        output_layer.out_channels = new_out_channel\n",
    "    elif isinstance(output_layer, nn.Linear):\n",
    "        output_layer.out_features = new_out_channel\n",
    "    else:\n",
    "        raise TypeError(\n",
    "            f\"Expect nn.Conv2d or nn.Linear but got {output_layer.__class__.__name__}\"\n",
    "        )\n",
    "\n",
    "    return output_layer\n",
    "\n",
    "# remapping the output layer's \n",
    "cnn[output_cnn_lyr_id] = remapping_output_index(cnn[output_cnn_lyr_id])\n",
    "\n",
    "# cnn to snn\n",
    "snn = from_model(cnn, input_shape=input_shape, batch_size=1).spiking_model\n",
    "# snn to DynapcnnNetwork\n",
    "dynapcnn_net = DynapcnnNetwork(snn=snn, input_shape=input_shape, dvs_input=False)"
   ]
  },
  {
   "cell_type": "markdown",
   "metadata": {},
   "source": [
    "按照之前所写过的方法进行配置"
   ]
  },
  {
   "cell_type": "code",
   "execution_count": 5,
   "metadata": {},
   "outputs": [
    {
     "name": "stdout",
     "output_type": "stream",
     "text": [
      "Network is valid\n",
      "link output layer: 0 to readout layer: 12\n"
     ]
    }
   ],
   "source": [
    "readout_threshold = 1\n",
    "\n",
    "# init devkit config\n",
    "devkit_cfg = dynapcnn_net.make_config(device=\"speck2edevkit:0\")\n",
    "\n",
    "# ========== modify devkit config ==========\n",
    "\n",
    "\"\"\"cnn layers configuration\"\"\"\n",
    "# send to output spike from cnn output layer to readout layer as its input\n",
    "cnn_output_layer = dynapcnn_net.chip_layers_ordering[-1]\n",
    "# the readout layer id is fixed for speck2e devkit which is 12\n",
    "readout_layer = 12\n",
    "print(f'link output layer: {cnn_output_layer} to readout layer: {readout_layer}')\n",
    "devkit_cfg.cnn_layers[cnn_output_layer].monitor_enable = True\n",
    "devkit_cfg.cnn_layers[cnn_output_layer].destinations[0].enable = True\n",
    "devkit_cfg.cnn_layers[cnn_output_layer].destinations[0].layer = readout_layer\n",
    "\n",
    "\"\"\"readout layer configuration\"\"\"\n",
    "devkit_cfg.readout.enable = True\n",
    "devkit_cfg.readout.readout_configuration_sel = 0b11\n",
    "devkit_cfg.readout.output_mode_sel = 0b01\n",
    "devkit_cfg.readout.low_pass_filter_disable = True\n",
    "devkit_cfg.readout.threshold = readout_threshold\n",
    "\n",
    "\n",
    "\"\"\"dvs layer configuration\"\"\"\n",
    "# link the dvs layer to the 1st layer of the cnn layers\n",
    "devkit_cfg.dvs_layer.destinations[0].enable = True\n",
    "devkit_cfg.dvs_layer.destinations[0].layer = dynapcnn_net.chip_layers_ordering[0]\n",
    "# merge the polarity of input events\n",
    "devkit_cfg.dvs_layer.merge = True\n",
    "# drop the raw input events from the dvs sensor, since we write events to devkit manually\n",
    "devkit_cfg.dvs_layer.pass_sensor_events = False\n",
    "# enable monitoring the output from dvs pre-preprocessing layer\n",
    "devkit_cfg.dvs_layer.monitor_enable = True"
   ]
  },
  {
   "cell_type": "code",
   "execution_count": 7,
   "metadata": {},
   "outputs": [
    {
     "name": "stdout",
     "output_type": "stream",
     "text": [
      "Open device: Speck2eDevKit\n"
     ]
    }
   ],
   "source": [
    "# open devkit\n",
    "device_names = [each.device_type_name for each in samna.device.get_all_devices()]\n",
    "print(f\"Open device: {device_names[0]}\")\n",
    "devkit = samna.device.open_device(device_names[0])"
   ]
  },
  {
   "cell_type": "code",
   "execution_count": 8,
   "metadata": {},
   "outputs": [
    {
     "data": {
      "text/plain": [
       "True"
      ]
     },
     "execution_count": 8,
     "metadata": {},
     "output_type": "execute_result"
    }
   ],
   "source": [
    " # init the graph\n",
    "samna_graph = samna.graph.EventFilterGraph()\n",
    "\n",
    "\n",
    "# init necessary nodes in samna graph\n",
    "# node for writing fake inputs into devkit\n",
    "input_buffer_node = samna.BasicSourceNode_speck2e_event_speck2e_input_event()\n",
    "# node for reading ReadoutValue \n",
    "readout_value_buffer_node = samna.BasicSinkNode_speck2e_event_output_event()\n",
    "# node for reading ReadoutPinValue\n",
    "pin_value_buffer_node = samna.BasicSinkNode_speck2e_event_output_event()\n",
    "# node for reading Spike(i.e. the output from last CNN layer)\n",
    "spike_buffer_node = samna.BasicSinkNode_speck2e_event_output_event()\n",
    "\n",
    "\n",
    "# build input branch for graph\n",
    "samna_graph.sequential([input_buffer_node, devkit.get_model_sink_node()])\n",
    "\n",
    "\n",
    "# build output branches for graph\n",
    "# branch #1: for the dvs input visualization\n",
    "_, _, streamer = samna_graph.sequential(\n",
    "    [devkit.get_model_source_node(), \"Speck2eDvsToVizConverter\", \"VizEventStreamer\"])\n",
    "# branch #2: for obtaining the ReadoutValue\n",
    "_, type_filter_node_readout, _ = samna_graph.sequential(\n",
    "    [devkit.get_model_source_node(), \"Speck2eOutputEventTypeFilter\", readout_value_buffer_node])\n",
    "# branch #3: for obtaining the ReadoutPinValue\n",
    "_, type_filter_node_pin, _ = samna_graph.sequential(\n",
    "    [devkit.get_model_source_node(), \"Speck2eOutputEventTypeFilter\", pin_value_buffer_node])\n",
    "# branch #4: for obtaining the output Spike from cnn output layer\n",
    "_, type_filter_node_spike, _ = samna_graph.sequential(\n",
    "    [devkit.get_model_source_node(), \"Speck2eOutputEventTypeFilter\", spike_buffer_node])\n",
    "\n",
    "\n",
    "# set the streamer nodes of the graph\n",
    "# tcp communication port for dvs input data visualization\n",
    "streamer_endpoint = 'tcp://0.0.0.0:40000'  \n",
    "streamer.set_streamer_endpoint(streamer_endpoint)\n",
    "# add desired type for filter node\n",
    "type_filter_node_readout.set_desired_type(\"speck2e::event::ReadoutValue\")\n",
    "type_filter_node_pin.set_desired_type(\"speck2e::event::ReadoutPinValue\")\n",
    "type_filter_node_spike.set_desired_type(\"speck2e::event::Spike\")\n",
    "\n",
    "\n",
    "# start samna graph before using the devkit\n",
    "samna_graph.start()"
   ]
  },
  {
   "cell_type": "markdown",
   "metadata": {},
   "source": [
    "可视化"
   ]
  },
  {
   "cell_type": "code",
   "execution_count": 9,
   "metadata": {},
   "outputs": [
    {
     "name": "stdout",
     "output_type": "stream",
     "text": [
      "sender_endpoint: tcp://0.0.0.0:57420\n",
      "receiver_endpoint: tcp://0.0.0.0:57421\n"
     ]
    }
   ],
   "source": [
    "# init samna node for tcp transmission\n",
    "samna_node = samna.init_samna()\n",
    "sender_endpoint = samna_node.get_sender_endpoint()\n",
    "receiver_endpoint = samna_node.get_receiver_endpoint()\n",
    "visualizer_id = 3\n",
    "time.sleep(1)  # wait tcp connection build up, this is necessary to open remote node."
   ]
  },
  {
   "cell_type": "code",
   "execution_count": 10,
   "metadata": {},
   "outputs": [],
   "source": [
    "# define a function that run the GUI visualizer in the sub-process\n",
    "def run_visualizer(receiver_endpoint, sender_endpoint, visualizer_id):\n",
    "\n",
    "    samnagui.runVisualizer(0.6, 0.6, receiver_endpoint, sender_endpoint, visualizer_id)\n",
    "\n",
    "    return"
   ]
  },
  {
   "cell_type": "code",
   "execution_count": 16,
   "metadata": {},
   "outputs": [
    {
     "name": "stdout",
     "output_type": "stream",
     "text": [
      "GUI process started, you should see a window pop up!\n",
      "visualizer failed\n",
      "visualizer failed\n",
      "visualizer failed\n",
      "visualizer failed\n",
      "visualizer failed\n",
      "visualizer failed\n",
      "visualizer failed\n",
      "visualizer failed\n",
      "visualizer failed\n",
      "visualizer failed\n"
     ]
    }
   ],
   "source": [
    "# create the subprocess\n",
    "gui_process = Process(target=run_visualizer, args=(receiver_endpoint, sender_endpoint, visualizer_id))\n",
    "gui_process.start()\n",
    "print(\"GUI process started, you should see a window pop up!\")\n",
    "\n",
    "# wait for open visualizer and connect to it.\n",
    "timeout = 10\n",
    "begin = time.time()\n",
    "name = \"visualizer\" + str(visualizer_id)\n",
    "while time.time() - begin < timeout:\n",
    "\n",
    "    try:\n",
    "\n",
    "        time.sleep(0.05)\n",
    "        samna.open_remote_node(visualizer_id, name)\n",
    "\n",
    "    except:\n",
    "        print(\"visualizer failed\")\n",
    "        continue\n",
    "\n",
    "    else:\n",
    "\n",
    "        visualizer = getattr(samna, name)\n",
    "        print(f\"successful connect the GUI visualizer!\")\n",
    "        break"
   ]
  },
  {
   "cell_type": "markdown",
   "metadata": {},
   "source": [
    "设置读出层的驱动慢时钟\n",
    "\n",
    "如上所述，芯片的读出层由慢时钟驱动。所以我们需要设置慢时钟的频率，它定义了从开发套件读取分类器结果的频率。"
   ]
  },
  {
   "cell_type": "code",
   "execution_count": 17,
   "metadata": {},
   "outputs": [],
   "source": [
    "dk_io = devkit.get_io_module()\n",
    "slow_clk_freq = 20 # Hz\n",
    "dk_io.set_slow_clk_rate(slow_clk_freq)\n",
    "dk_io.set_slow_clk(True)"
   ]
  },
  {
   "cell_type": "markdown",
   "metadata": {},
   "source": [
    "开始 readout"
   ]
  },
  {
   "cell_type": "code",
   "execution_count": 18,
   "metadata": {},
   "outputs": [],
   "source": [
    "def create_fake_input_events(time_sec: int, data_rate: int = 1000):\n",
    "\n",
    "    \"\"\"\n",
    "    Args:\n",
    "        time_sec: how long is the input events\n",
    "        data_rate: how many input events generated in 1 second\n",
    "\n",
    "        During the first half time, it generates events where y coordinate only in range[0, 7] which means top half\n",
    "        region of the input feature map.\n",
    "\n",
    "        Then in the last half of time, it generates events where y coordinate only in range[8, 15] which means bottom\n",
    "        half region of the input feature map.\n",
    "\n",
    "    \"\"\"\n",
    "\n",
    "    time_offset_micro_sec = 5000  # make the timestamp start from 5000\n",
    "    time_micro_sec = time_sec * 1000000  # timestamp unit is micro-second\n",
    "    time_stride = 1000000 // data_rate\n",
    "\n",
    "    half_time = time_micro_sec // 2\n",
    "\n",
    "    events = []\n",
    "    for time_stamp in range(time_offset_micro_sec, time_micro_sec + time_offset_micro_sec + 1, time_stride):\n",
    "\n",
    "        spk = samna.speck2e.event.DvsEvent()\n",
    "        spk.timestamp = time_stamp\n",
    "        spk.p = random.randint(0, 1)\n",
    "        spk.x = random.randint(0, 15)\n",
    "\n",
    "        if time_stamp < half_time:\n",
    "            spk.y = random.randint(0, 7)  # spike located in top half of the input region\n",
    "        else:\n",
    "            spk.y = random.randint(8, 15)  # spike located in bottom half of the input region\n",
    "\n",
    "        events.append(spk)\n",
    "\n",
    "    return events"
   ]
  },
  {
   "cell_type": "code",
   "execution_count": 19,
   "metadata": {},
   "outputs": [
    {
     "name": "stdout",
     "output_type": "stream",
     "text": [
      "number of fake input spikes: 15001\n"
     ]
    }
   ],
   "source": [
    "# create fake input events\n",
    "input_time_length = 3 # seconds\n",
    "data_rate = 5000\n",
    "input_events = create_fake_input_events(time_sec=3, data_rate=data_rate)\n",
    "\n",
    "print(f\"number of fake input spikes: {len(input_events)}\")"
   ]
  },
  {
   "cell_type": "code",
   "execution_count": 20,
   "metadata": {},
   "outputs": [
    {
     "data": {
      "text/plain": [
       "60"
      ]
     },
     "execution_count": 20,
     "metadata": {},
     "output_type": "execute_result"
    }
   ],
   "source": [
    "# estimated slow-clock cycle for processing the input spikes\n",
    "clock_cycles_esitmated = slow_clk_freq * input_time_length\n",
    "clock_cycles_esitmated"
   ]
  },
  {
   "cell_type": "markdown",
   "metadata": {},
   "source": [
    "读取 Readout Pin Value"
   ]
  },
  {
   "cell_type": "code",
   "execution_count": 21,
   "metadata": {},
   "outputs": [],
   "source": [
    "# to read the ReadoutPinValue, we need to modify the devkit's readout layer's config a little bit\n",
    "devkit_cfg.readout.monitor_enable = False\n",
    "devkit_cfg.readout.readout_pin_monitor_enable = True\n",
    "\n",
    "\n",
    "# then apply the config to devkit\n",
    "devkit.get_model().apply_configuration(devkit_cfg)\n",
    "time.sleep(0.1)"
   ]
  },
  {
   "cell_type": "code",
   "execution_count": 22,
   "metadata": {},
   "outputs": [
    {
     "name": "stdout",
     "output_type": "stream",
     "text": [
      "You should see the input events through the GUI window!\n"
     ]
    }
   ],
   "source": [
    "# write the fake input into the devkit\n",
    "\n",
    "# enable & reset the stop-watch of devkit, this is mainly for the timestamp processing for the input&output events.\n",
    "stop_watch = devkit.get_stop_watch()\n",
    "stop_watch.set_enable_value(True)\n",
    "stop_watch.reset()\n",
    "time.sleep(0.01)\n",
    "\n",
    "# clear output buffer\n",
    "pin_value_buffer_node.get_events()\n",
    "spike_buffer_node.get_events()\n",
    "\n",
    "# write through the input buffer node\n",
    "input_time_length = (input_events[-1].timestamp - input_events[0].timestamp) / 1e6\n",
    "input_buffer_node.write(input_events)\n",
    "# sleep till all input events is sent and processed\n",
    "time.sleep(input_time_length + 0.02)\n",
    "\n",
    "# read the ReadoutPinValue from related buffer node\n",
    "pin_value_events = pin_value_buffer_node.get_events()\n",
    "\n",
    "print(\"You should see the input events through the GUI window!\")"
   ]
  },
  {
   "cell_type": "code",
   "execution_count": 23,
   "metadata": {},
   "outputs": [
    {
     "name": "stdout",
     "output_type": "stream",
     "text": [
      "The estimated clock cycle is 60\n",
      "Number of ReadoutPinValue events: 60\n"
     ]
    },
    {
     "data": {
      "image/png": "[encoded data removed]",
      "text/plain": [
       "<Figure size 432x288 with 1 Axes>"
      ]
     },
     "metadata": {
      "needs_background": "light"
     },
     "output_type": "display_data"
    }
   ],
   "source": [
    "# the number of the ReadoutPinValue should be very close to (or the same as) the estimated clock cycle.\n",
    "print(f\"The estimated clock cycle is {clock_cycles_esitmated}\")\n",
    "print(f\"Number of ReadoutPinValue events: {len(pin_value_events)}\")\n",
    "\n",
    "# get the timestamp of the output event\n",
    "pin_value_timestamp = [each.timestamp for each in pin_value_events]\n",
    "# shift timestep starting from 0\n",
    "start_t = pin_value_timestamp[0]\n",
    "pin_value_timestamp = [each - start_t for each in pin_value_timestamp]\n",
    "\n",
    "# get the index of the output neuron with maximum output\n",
    "neuron_id = [each.index for each in pin_value_events]\n",
    "\n",
    "# plot the output neuron index vs. time\n",
    "fig, ax = plt.subplots()\n",
    "ax.scatter(pin_value_timestamp, neuron_id)\n",
    "ax.set(xlim=(0, 3e6),ylim=(0, 2.5))\n",
    "ax.set_xlabel(\"time( micro sec)\")\n",
    "ax.set_ylabel(\"neuron index\")\n",
    "ax.set_title(\"ReadoutPinValue\")\n",
    "ax.yaxis.set_major_locator(MaxNLocator(integer=True))  # make y-axis only show integer"
   ]
  },
  {
   "cell_type": "markdown",
   "metadata": {},
   "source": [
    "读取 Readout Value"
   ]
  },
  {
   "cell_type": "code",
   "execution_count": 24,
   "metadata": {},
   "outputs": [],
   "source": [
    "# to read the ReadoutValue, we need to modify the devkit's readout layer's config also\n",
    "\n",
    "# you can’t monitor any Spike events from CNN layers or the DVS sensor anymore by setting\n",
    "# `readout.monitor_enable = True`\n",
    "devkit_cfg.readout.monitor_enable = True\n",
    "# disable ReadoutPinvalue reading\n",
    "devkit_cfg.readout.readout_pin_monitor_enable = False\n",
    "\n",
    "\n",
    "# then re-apply the config to devkit\n",
    "devkit.get_model().apply_configuration(devkit_cfg)\n",
    "time.sleep(0.1)"
   ]
  },
  {
   "cell_type": "code",
   "execution_count": 25,
   "metadata": {},
   "outputs": [
    {
     "name": "stdout",
     "output_type": "stream",
     "text": [
      "You will not see any input events through the GUI window!\n"
     ]
    }
   ],
   "source": [
    "# write the fake input into the devkit again\n",
    "\n",
    "# enable & reset the stop-watch of devkit, this is mainly for the timestamp processing for the input&output events.\n",
    "stop_watch = devkit.get_stop_watch()\n",
    "stop_watch.set_enable_value(True)\n",
    "stop_watch.reset()\n",
    "time.sleep(0.01)\n",
    "\n",
    "# clear output buffer\n",
    "readout_value_buffer_node.get_events()\n",
    "\n",
    "# write through the input buffer node\n",
    "input_time_length = (input_events[-1].timestamp - input_events[0].timestamp) / 1e6\n",
    "input_buffer_node.write(input_events)\n",
    "# sleep till all input events is sent and processed\n",
    "time.sleep(input_time_length + 0.02)\n",
    "\n",
    "# read the buffer immediately after the process waiting finished.\n",
    "# since every slock-clock cycle will append a new ReadoutValue event into the buffer\n",
    "readout_value_events = readout_value_buffer_node.get_events()\n",
    "\n",
    "print(\"You will not see any input events through the GUI window!\")"
   ]
  },
  {
   "cell_type": "code",
   "execution_count": 26,
   "metadata": {},
   "outputs": [
    {
     "name": "stdout",
     "output_type": "stream",
     "text": [
      "The estimated clock cycle is 60\n",
      "Number of ReadoutValue events: 60\n"
     ]
    },
    {
     "data": {
      "image/png": "[encoded data removed]",
      "text/plain": [
       "<Figure size 432x288 with 1 Axes>"
      ]
     },
     "metadata": {
      "needs_background": "light"
     },
     "output_type": "display_data"
    }
   ],
   "source": [
    "# the number of the ReadoutValue should be very close to (or the same as) the estimated clock cycle.\n",
    "print(f\"The estimated clock cycle is {clock_cycles_esitmated}\")\n",
    "print(f\"Number of ReadoutValue events: {len(readout_value_events)}\")\n",
    "\n",
    "# the ReadoutValue event don't have a timestamp, but we know it is generated at every slow-clock cycle\n",
    "time_each_clock_cycle = 1e6 / slow_clk_freq\n",
    "readout_value_timestamp = [idx * time_each_clock_cycle for idx in range(len(readout_value_events))]\n",
    "\n",
    "# shift timestep starting from 0\n",
    "start_t = readout_value_timestamp[0]\n",
    "readout_value_timestamp = [each - start_t for each in readout_value_timestamp]\n",
    "\n",
    "# get the index of the output neuron with maximum output\n",
    "neuron_id = [(each.value & 0x0F0000) >> 16  for each in readout_value_events]\n",
    "\n",
    "# plot the output neuron index vs. time\n",
    "fig, ax = plt.subplots()\n",
    "ax.scatter(readout_value_timestamp, neuron_id)\n",
    "ax.set(xlim=(0, 3e6),ylim=(0, 2.5))\n",
    "ax.set_xlabel(\"time( micro sec)\")\n",
    "ax.set_ylabel(\"neuron index\")\n",
    "ax.set_title(\"ReadoutValue\")\n",
    "ax.yaxis.set_major_locator(MaxNLocator(integer=True))"
   ]
  },
  {
   "cell_type": "markdown",
   "metadata": {},
   "source": [
    "检查输出"
   ]
  },
  {
   "cell_type": "code",
   "execution_count": 27,
   "metadata": {},
   "outputs": [
    {
     "name": "stdout",
     "output_type": "stream",
     "text": [
      "number of output spikes from DynacpCNN Layer: 15001\n"
     ]
    },
    {
     "data": {
      "image/png": "[encoded data removed]",
      "text/plain": [
       "<Figure size 432x288 with 1 Axes>"
      ]
     },
     "metadata": {
      "needs_background": "light"
     },
     "output_type": "display_data"
    }
   ],
   "source": [
    "# get the output events from last DynapCNN Layer\n",
    "dynapcnn_layer_events = spike_buffer_node.get_events()\n",
    "\n",
    "# eliminate the Spikes come from layer 13\n",
    "# since the input DVSEvents will be converted into Spikes and output from layer 13\n",
    "# so the Spikes from layer 13 is the input itself\n",
    "dynapcnn_layer_events = [each for each in dynapcnn_layer_events if each.layer != 13]\n",
    "\n",
    "print(f\"number of output spikes from DynacpCNN Layer: {len(dynapcnn_layer_events)}\")\n",
    "\n",
    "# get the timestamp of the output event\n",
    "spike_timestamp = [each.timestamp for each in dynapcnn_layer_events]\n",
    "# shift timestep starting from 0\n",
    "start_t = spike_timestamp[0]\n",
    "spike_timestamp = [each - start_t for each in spike_timestamp]\n",
    "\n",
    "# get the neuron index of each output spike \n",
    "neuron_id = [each.feature  for each in dynapcnn_layer_events]\n",
    "\n",
    "\n",
    "# plot the output neuron index vs. time\n",
    "fig, ax = plt.subplots()\n",
    "ax.scatter(spike_timestamp, neuron_id)\n",
    "ax.set(xlim=(0, 3e6),ylim=(-0.5, 4.5))\n",
    "ax.set_xlabel(\"time( micro sec)\")\n",
    "ax.set_ylabel(\"neuron index\")\n",
    "ax.set_title(\"Spike\")\n",
    "ax.yaxis.set_major_locator(MaxNLocator(integer=True))\n",
    "\n",
    "# we should see the neuron index are 0 and 4 if using speck2e, because of the incorrect map relationship on speck2e devkit"
   ]
  },
  {
   "cell_type": "code",
   "execution_count": 28,
   "metadata": {},
   "outputs": [],
   "source": [
    "# stop devkit when experiment finished.\n",
    "\n",
    "gui_process.terminate()\n",
    "gui_process.join()\n",
    "\n",
    "samna_graph.stop()\n",
    "samna.device.close_device(devkit)"
   ]
  }
 ],
 "metadata": {
  "kernelspec": {
   "display_name": "Python 3",
   "language": "python",
   "name": "python3"
  },
  "language_info": {
   "codemirror_mode": {
    "name": "ipython",
    "version": 3
   },
   "file_extension": ".py",
   "mimetype": "text/x-python",
   "name": "python",
   "nbconvert_exporter": "python",
   "pygments_lexer": "ipython3",
   "version": "3.9.2"
  },
  "orig_nbformat": 4
 },
 "nbformat": 4,
 "nbformat_minor": 2
}
